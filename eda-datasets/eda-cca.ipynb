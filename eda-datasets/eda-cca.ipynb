{
 "cells": [
  {
   "cell_type": "code",
   "execution_count": 1,
   "id": "a8ddf992",
   "metadata": {},
   "outputs": [],
   "source": [
    "import pandas as pd\n",
    "import numpy as np\n",
    "import sqlite3"
   ]
  },
  {
   "cell_type": "code",
   "execution_count": 2,
   "id": "83aa6cc6",
   "metadata": {},
   "outputs": [
    {
     "data": {
      "text/html": [
       "<div>\n",
       "<style scoped>\n",
       "    .dataframe tbody tr th:only-of-type {\n",
       "        vertical-align: middle;\n",
       "    }\n",
       "\n",
       "    .dataframe tbody tr th {\n",
       "        vertical-align: top;\n",
       "    }\n",
       "\n",
       "    .dataframe thead th {\n",
       "        text-align: right;\n",
       "    }\n",
       "</style>\n",
       "<table border=\"1\" class=\"dataframe\">\n",
       "  <thead>\n",
       "    <tr style=\"text-align: right;\">\n",
       "      <th></th>\n",
       "      <th>Unnamed: 0</th>\n",
       "      <th>pk_cid</th>\n",
       "      <th>pk_partition</th>\n",
       "      <th>entry_date</th>\n",
       "      <th>entry_channel</th>\n",
       "      <th>active_customer</th>\n",
       "      <th>segment</th>\n",
       "    </tr>\n",
       "  </thead>\n",
       "  <tbody>\n",
       "    <tr>\n",
       "      <th>0</th>\n",
       "      <td>0</td>\n",
       "      <td>1375586</td>\n",
       "      <td>2018-01</td>\n",
       "      <td>2018-01</td>\n",
       "      <td>KHL</td>\n",
       "      <td>1.0</td>\n",
       "      <td>02 - PARTICULARES</td>\n",
       "    </tr>\n",
       "    <tr>\n",
       "      <th>1</th>\n",
       "      <td>1</td>\n",
       "      <td>1050611</td>\n",
       "      <td>2018-01</td>\n",
       "      <td>2015-08</td>\n",
       "      <td>KHE</td>\n",
       "      <td>0.0</td>\n",
       "      <td>03 - UNIVERSITARIO</td>\n",
       "    </tr>\n",
       "    <tr>\n",
       "      <th>2</th>\n",
       "      <td>2</td>\n",
       "      <td>1050612</td>\n",
       "      <td>2018-01</td>\n",
       "      <td>2015-08</td>\n",
       "      <td>KHE</td>\n",
       "      <td>0.0</td>\n",
       "      <td>03 - UNIVERSITARIO</td>\n",
       "    </tr>\n",
       "    <tr>\n",
       "      <th>3</th>\n",
       "      <td>3</td>\n",
       "      <td>1050613</td>\n",
       "      <td>2018-01</td>\n",
       "      <td>2015-08</td>\n",
       "      <td>KHD</td>\n",
       "      <td>0.0</td>\n",
       "      <td>03 - UNIVERSITARIO</td>\n",
       "    </tr>\n",
       "    <tr>\n",
       "      <th>4</th>\n",
       "      <td>4</td>\n",
       "      <td>1050614</td>\n",
       "      <td>2018-01</td>\n",
       "      <td>2015-08</td>\n",
       "      <td>KHE</td>\n",
       "      <td>1.0</td>\n",
       "      <td>03 - UNIVERSITARIO</td>\n",
       "    </tr>\n",
       "  </tbody>\n",
       "</table>\n",
       "</div>"
      ],
      "text/plain": [
       "   Unnamed: 0   pk_cid pk_partition entry_date entry_channel  active_customer  \\\n",
       "0           0  1375586      2018-01    2018-01           KHL              1.0   \n",
       "1           1  1050611      2018-01    2015-08           KHE              0.0   \n",
       "2           2  1050612      2018-01    2015-08           KHE              0.0   \n",
       "3           3  1050613      2018-01    2015-08           KHD              0.0   \n",
       "4           4  1050614      2018-01    2015-08           KHE              1.0   \n",
       "\n",
       "              segment  \n",
       "0   02 - PARTICULARES  \n",
       "1  03 - UNIVERSITARIO  \n",
       "2  03 - UNIVERSITARIO  \n",
       "3  03 - UNIVERSITARIO  \n",
       "4  03 - UNIVERSITARIO  "
      ]
     },
     "execution_count": 2,
     "metadata": {},
     "output_type": "execute_result"
    }
   ],
   "source": [
    "df_cca = pd.read_csv(\"/Users/raphael/Desktop/Nuclio/TFM/eda-datasets/tfm-datasets/customer_commercial_activity.csv\")\n",
    "df_cca.head()"
   ]
  }
 ],
 "metadata": {
  "kernelspec": {
   "display_name": "Python 3",
   "language": "python",
   "name": "python3"
  },
  "language_info": {
   "codemirror_mode": {
    "name": "ipython",
    "version": 3
   },
   "file_extension": ".py",
   "mimetype": "text/x-python",
   "name": "python",
   "nbconvert_exporter": "python",
   "pygments_lexer": "ipython3",
   "version": "3.13.3"
  }
 },
 "nbformat": 4,
 "nbformat_minor": 5
}
