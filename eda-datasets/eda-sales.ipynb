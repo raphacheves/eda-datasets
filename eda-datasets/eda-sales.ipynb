{
 "cells": [
  {
   "cell_type": "code",
   "execution_count": 1,
   "id": "2ffe5852",
   "metadata": {},
   "outputs": [],
   "source": [
    "import pandas as pd\n",
    "import numpy as np"
   ]
  },
  {
   "cell_type": "code",
   "execution_count": 2,
   "id": "2ef883a4",
   "metadata": {},
   "outputs": [
    {
     "data": {
      "text/html": [
       "<div>\n",
       "<style scoped>\n",
       "    .dataframe tbody tr th:only-of-type {\n",
       "        vertical-align: middle;\n",
       "    }\n",
       "\n",
       "    .dataframe tbody tr th {\n",
       "        vertical-align: top;\n",
       "    }\n",
       "\n",
       "    .dataframe thead th {\n",
       "        text-align: right;\n",
       "    }\n",
       "</style>\n",
       "<table border=\"1\" class=\"dataframe\">\n",
       "  <thead>\n",
       "    <tr style=\"text-align: right;\">\n",
       "      <th></th>\n",
       "      <th>Unnamed: 0</th>\n",
       "      <th>pk_sale</th>\n",
       "      <th>cid</th>\n",
       "      <th>month_sale</th>\n",
       "      <th>product_ID</th>\n",
       "      <th>net_margin</th>\n",
       "    </tr>\n",
       "  </thead>\n",
       "  <tbody>\n",
       "    <tr>\n",
       "      <th>0</th>\n",
       "      <td>0</td>\n",
       "      <td>6666</td>\n",
       "      <td>33620</td>\n",
       "      <td>2018-05-01</td>\n",
       "      <td>2335</td>\n",
       "      <td>952.9</td>\n",
       "    </tr>\n",
       "    <tr>\n",
       "      <th>1</th>\n",
       "      <td>1</td>\n",
       "      <td>6667</td>\n",
       "      <td>35063</td>\n",
       "      <td>2018-06-01</td>\n",
       "      <td>2335</td>\n",
       "      <td>1625.2</td>\n",
       "    </tr>\n",
       "    <tr>\n",
       "      <th>2</th>\n",
       "      <td>2</td>\n",
       "      <td>6668</td>\n",
       "      <td>37299</td>\n",
       "      <td>2018-02-01</td>\n",
       "      <td>2335</td>\n",
       "      <td>1279.7</td>\n",
       "    </tr>\n",
       "    <tr>\n",
       "      <th>3</th>\n",
       "      <td>3</td>\n",
       "      <td>6669</td>\n",
       "      <td>39997</td>\n",
       "      <td>2018-02-01</td>\n",
       "      <td>2335</td>\n",
       "      <td>1511.9</td>\n",
       "    </tr>\n",
       "    <tr>\n",
       "      <th>4</th>\n",
       "      <td>4</td>\n",
       "      <td>6670</td>\n",
       "      <td>44012</td>\n",
       "      <td>2018-02-01</td>\n",
       "      <td>2335</td>\n",
       "      <td>1680.3</td>\n",
       "    </tr>\n",
       "  </tbody>\n",
       "</table>\n",
       "</div>"
      ],
      "text/plain": [
       "   Unnamed: 0  pk_sale    cid  month_sale  product_ID  net_margin\n",
       "0           0     6666  33620  2018-05-01        2335       952.9\n",
       "1           1     6667  35063  2018-06-01        2335      1625.2\n",
       "2           2     6668  37299  2018-02-01        2335      1279.7\n",
       "3           3     6669  39997  2018-02-01        2335      1511.9\n",
       "4           4     6670  44012  2018-02-01        2335      1680.3"
      ]
     },
     "execution_count": 2,
     "metadata": {},
     "output_type": "execute_result"
    }
   ],
   "source": [
    "df_sales = pd.read_csv(\"/Users/raphael/Desktop/Nuclio/TFM/eda-datasets/tfm-datasets/sales.csv\")\n",
    "df_sales.head()"
   ]
  }
 ],
 "metadata": {
  "kernelspec": {
   "display_name": "Python 3",
   "language": "python",
   "name": "python3"
  },
  "language_info": {
   "codemirror_mode": {
    "name": "ipython",
    "version": 3
   },
   "file_extension": ".py",
   "mimetype": "text/x-python",
   "name": "python",
   "nbconvert_exporter": "python",
   "pygments_lexer": "ipython3",
   "version": "3.13.3"
  }
 },
 "nbformat": 4,
 "nbformat_minor": 5
}
